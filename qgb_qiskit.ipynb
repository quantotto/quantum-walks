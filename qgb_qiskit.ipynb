{
 "cells": [
  {
   "cell_type": "markdown",
   "id": "a03814da",
   "metadata": {},
   "source": [
    "$$\\renewcommand{\\ket}[1]{\\left|{#1}\\right\\rangle}$$\n",
    "$$\\renewcommand{\\bra}[1]{\\left\\langle{#1}\\right|}$$\n",
    "$$\\renewcommand{\\braket}[2]{\\left\\langle{#1}\\middle|{#2}\\right\\rangle}$$"
   ]
  },
  {
   "cell_type": "code",
   "execution_count": null,
   "id": "0b32c061",
   "metadata": {},
   "outputs": [],
   "source": [
    "# Uncomment the following line to install the required packages if not already installed\n",
    "# !pip install qiskit qiskit-aer qiskit-ibm-runtime matplotlib pylatexenc qiskit-ibm-transpiler[ai-local-mode] mthree"
   ]
  },
  {
   "cell_type": "markdown",
   "id": "16d0308a",
   "metadata": {},
   "source": [
    "# Quantum Walks and Monte Carlo"
   ]
  },
  {
   "cell_type": "markdown",
   "id": "dea9df7e",
   "metadata": {},
   "source": [
    "## Part I - Universal Statistical Simulator - Approach Summary"
   ]
  },
  {
   "cell_type": "markdown",
   "id": "d08ee628",
   "metadata": {},
   "source": [
    "The 2-pager description of the approach to achieve various distributions with Quantum Galton Board can be found here: [solution summary](solution_2pager.pdf)."
   ]
  },
  {
   "cell_type": "markdown",
   "id": "ca860f8b",
   "metadata": {},
   "source": [
    "## Part II - General Algorithm for Quantum Galton Box"
   ]
  },
  {
   "cell_type": "code",
   "execution_count": null,
   "id": "ae106d05",
   "metadata": {},
   "outputs": [],
   "source": [
    "from typing import List, Tuple\n",
    "\n",
    "import math\n",
    "import numpy as np\n",
    "from collections import defaultdict\n",
    "\n",
    "from qiskit_ibm_runtime import QiskitRuntimeService\n",
    "from qiskit_aer import AerSimulator\n",
    "from qiskit import QuantumCircuit, QuantumRegister, ClassicalRegister, transpile\n",
    "from qiskit_ibm_runtime import SamplerV2 as IBMSampler\n",
    "\n",
    "import matplotlib.pyplot as plt\n",
    "\n",
    "from circuit_runner import RunMode, run_simulation\n",
    "from distributions import DistributionGenerator, DistributionType"
   ]
  },
  {
   "cell_type": "code",
   "execution_count": null,
   "id": "e31989d2",
   "metadata": {},
   "outputs": [],
   "source": [
    "SHOTS = 4096\n",
    "ENABLE_REAL_DEVICE = False\n",
    "results = {}"
   ]
  },
  {
   "cell_type": "code",
   "execution_count": null,
   "id": "32265938",
   "metadata": {},
   "outputs": [],
   "source": [
    "def calculate_wire_tuples(n, level) -> List[Tuple[int, int]]:\n",
    "    if level < 1 or level > n:\n",
    "        raise ValueError(\"Level must be between 1 and n (inclusive).\")\n",
    "    middle = n + 1\n",
    "    start, finish = middle - level, middle + level\n",
    "    return [(i, i + 1) for i in range(start, finish)]\n",
    "\n",
    "def create_qgb_circuit(n, coin) -> QuantumCircuit:\n",
    "    \"\"\"Creates a quantum circuit for the Quantum Galton Board (QGB) with n levels.\"\"\"\n",
    "\n",
    "    def qpegs(qc: QuantumCircuit, wire_tuples: List[Tuple[int]]):\n",
    "        \"\"\"Apply the quantum pegs operation for the Galton Board.\"\"\"\n",
    "        for i, wires in enumerate(wire_tuples):\n",
    "            qc.cswap(0, wires[0], wires[1])\n",
    "            if i < len(wire_tuples) - 1:\n",
    "                qc.cx(wires[1], 0)\n",
    "\n",
    "\n",
    "    def levels(qc: QuantumCircuit):\n",
    "        \"\"\"Apply the quantum pegs for each level of the Galton Board.\"\"\"\n",
    "        qc.x(n + 1)\n",
    "        for level in range(1, n + 1):\n",
    "            coin(qc, n, level)\n",
    "            qpegs(qc, calculate_wire_tuples(n, level))\n",
    "            if level < n:\n",
    "                qc.reset(0)\n",
    "            qc.barrier()\n",
    "\n",
    "    def measures(qc: QuantumCircuit):\n",
    "        \"\"\"Final measurement of tally qubits\"\"\"\n",
    "        for cbit, qbit in enumerate(range(1, 2 * n + 2, 2)):\n",
    "            qc.measure(qbit, cbit)\n",
    "\n",
    "    quantum_coin = QuantumRegister(1, \"coin\")\n",
    "    qgb = QuantumRegister(2 * n + 1, \"QGB\")\n",
    "    distribution = ClassicalRegister(n + 1, \"distribution\")\n",
    "    circuit = QuantumCircuit(\n",
    "        quantum_coin, qgb, distribution, name=\"Quantum Galton Board\"\n",
    "    )\n",
    "    levels(circuit)\n",
    "    measures(circuit)\n",
    "    return circuit"
   ]
  },
  {
   "cell_type": "code",
   "execution_count": null,
   "id": "c4747a91",
   "metadata": {},
   "outputs": [],
   "source": [
    "def hadamard_coin(qc: QuantumCircuit, n: int, level: int):\n",
    "    \"\"\"Applies a Hadamard coin operation for the Quantum Galton Board.\"\"\"\n",
    "    qc.h(0)"
   ]
  },
  {
   "cell_type": "code",
   "execution_count": null,
   "id": "04cbe75d",
   "metadata": {},
   "outputs": [],
   "source": [
    "qc = create_qgb_circuit(3, hadamard_coin)\n",
    "qc.draw(\"mpl\", fold=-1)"
   ]
  },
  {
   "cell_type": "markdown",
   "id": "8174e15e",
   "metadata": {},
   "source": [
    "In the circuit_runner.py helper module, we defined a function that will run the appropriate simulation of our circuit. It will leverage CircuitRunner class to execute the circuits, get the results and plot them against the reference distribution. `DistributionGenerator` class is used to calculate the perfect case of reference distributions. It supports normal, exponential, hadamard random walk and uniform distribution generation."
   ]
  },
  {
   "cell_type": "code",
   "execution_count": null,
   "id": "e4abd897",
   "metadata": {},
   "outputs": [],
   "source": [
    "n = 6\n",
    "results[\"gaussian_noiseless\"] = run_simulation(\n",
    "    n,\n",
    "    SHOTS,\n",
    "    create_qgb_circuit,\n",
    "    hadamard_coin,\n",
    "    RunMode.NOISELESS_SIMULATOR,\n",
    "    DistributionType.NORMAL,\n",
    "    f\"Normal Distribution on Quantum Galton Box with {n} levels\",\n",
    ")"
   ]
  },
  {
   "cell_type": "markdown",
   "id": "5516abc4",
   "metadata": {},
   "source": [
    "Our implementation is fairly generic and allows easy introduction of custom coins that control the distribution. As an example, we could have a biased distribution with RY-rotation coin as demonstrated below."
   ]
  },
  {
   "cell_type": "code",
   "execution_count": null,
   "id": "7043f518",
   "metadata": {},
   "outputs": [],
   "source": [
    "coin_function = lambda qc, n, level: qc.ry(2 * np.pi / 3, 0)\n",
    "n = 6\n",
    "_ = run_simulation(\n",
    "    n,\n",
    "    SHOTS,\n",
    "    create_qgb_circuit,\n",
    "    coin_function,\n",
    "    RunMode.NOISELESS_SIMULATOR,\n",
    "    title=f\"Biased Distribution on Quantum Galton Box with {n} levels\",\n",
    "    show_reference=False,\n",
    ")"
   ]
  },
  {
   "cell_type": "markdown",
   "id": "7aaaa6c4",
   "metadata": {},
   "source": [
    "## Part III - Modified Target Distributions"
   ]
  },
  {
   "cell_type": "markdown",
   "id": "8700627b",
   "metadata": {},
   "source": [
    "As mentioned in Part II, we are able to introduce different coins in order to modify the output distribution of our Quantum Galton Box. In this part, we will generate Exponential Distribution and Hadamard Quantum Walk."
   ]
  },
  {
   "cell_type": "markdown",
   "id": "5db7dbf1",
   "metadata": {},
   "source": [
    "### Exponential Distribution"
   ]
  },
  {
   "cell_type": "markdown",
   "id": "fd14b3be",
   "metadata": {},
   "source": [
    "Let's now create an exponential coin that modifies the righmost peg on each level. We will condition its rotation on the appropriate qubit for each level."
   ]
  },
  {
   "cell_type": "code",
   "execution_count": null,
   "id": "b7ab2114",
   "metadata": {},
   "outputs": [],
   "source": [
    "def exponential_coin(qc: QuantumCircuit, n, level):\n",
    "    \"\"\"Applies an exponential coin rotation based on the level.\"\"\"\n",
    "    theta = 2 * math.acos(np.sqrt(1 / np.e))\n",
    "    if level == 1:\n",
    "        qc.ry(theta, 0)\n",
    "    else:\n",
    "        middle = n + 1\n",
    "        for i in range(middle - level + 1, middle + level - 1):\n",
    "            qc.cx(i, 0)\n",
    "        qc.cry(theta, middle + level - 1, 0)"
   ]
  },
  {
   "cell_type": "code",
   "execution_count": null,
   "id": "e9623eef",
   "metadata": {},
   "outputs": [],
   "source": [
    "n = 6\n",
    "results[\"exponential_noiseless\"] = run_simulation(\n",
    "    n,\n",
    "    SHOTS,\n",
    "    create_qgb_circuit,\n",
    "    exponential_coin,\n",
    "    RunMode.NOISELESS_SIMULATOR,\n",
    "    distribution_type=DistributionType.EXPONENTIAL,\n",
    "    title=f\"Exponential Distribution on Quantum Galton Box with {n} levels\",\n",
    ")"
   ]
  },
  {
   "cell_type": "markdown",
   "id": "369ca54d",
   "metadata": {},
   "source": [
    "### Hadamard Quantum Walk"
   ]
  },
  {
   "cell_type": "markdown",
   "id": "108f5f2a",
   "metadata": {},
   "source": [
    "We modify the QGB circuit to simultaneously shift the ball left and right (controlled by the coin state). It removes the need to apply CNOT between the controlled-SWAP operations, but we now have to control it both on 0 and 1 values of the coin."
   ]
  },
  {
   "cell_type": "code",
   "execution_count": null,
   "id": "0d31080c",
   "metadata": {},
   "outputs": [],
   "source": [
    "def calculate_hrw_wire_tuples(n, level) -> List[Tuple[int, int]]:\n",
    "    if level < 1 or level > n:\n",
    "        raise ValueError(\"Level must be between 1 and n (inclusive).\")\n",
    "    middle = n + 1\n",
    "    return [(i, i + 1) for i in range(middle - level, middle + level)]\n",
    "\n",
    "\n",
    "def calculate_hrw_fs_wire_tuples(n) -> List[Tuple[int, int]]:\n",
    "    iterations = math.floor((n + 1) / 2)\n",
    "    return [(i * 2 + 1, 2 * n + 2 - (i * 2) - 1) for i in range(iterations)]\n",
    "\n",
    "\n",
    "def create_hrw_qgb_circuit(n, coin) -> QuantumCircuit:\n",
    "    \"\"\"Creates a quantum circuit for the n-steps Hadamard Walk distribution\n",
    "    leveraging the Quantum Galton Board (QGB) with n levels.\"\"\"\n",
    "\n",
    "    def qpegs(qc: QuantumCircuit, wire_tuples):\n",
    "        control_value = 0\n",
    "        print(len(wire_tuples))\n",
    "        for wires in wire_tuples:\n",
    "            qc.cswap(0, wires[0], wires[1], ctrl_state=control_value)\n",
    "            control_value ^= 1\n",
    "\n",
    "    def levels(qc: QuantumCircuit):\n",
    "        qc.x(n + 1)\n",
    "        for level in range(1, n + 1):\n",
    "            coin(qc, n, level)\n",
    "            qpegs(qc, calculate_hrw_wire_tuples(n, level))\n",
    "            qc.barrier()\n",
    "\n",
    "    def final_swap(qc: QuantumCircuit):\n",
    "        qc.reset(0)\n",
    "        qc.h(0)\n",
    "        for wires in calculate_hrw_fs_wire_tuples(n):\n",
    "            qc.cswap(0, wires[0], wires[1])\n",
    "        qc.barrier()\n",
    "\n",
    "    def measures(qc: QuantumCircuit):\n",
    "        for cbit, qbit in enumerate(range(1, 2 * n + 2, 2)):\n",
    "            qc.measure(qbit, cbit)\n",
    "\n",
    "    qr = QuantumRegister(2 * n + 2)\n",
    "    distribution = ClassicalRegister(n + 1, \"distribution\")\n",
    "    circuit = QuantumCircuit(qr, distribution)\n",
    "    levels(circuit)\n",
    "    final_swap(circuit)\n",
    "    measures(circuit)\n",
    "    return circuit"
   ]
  },
  {
   "cell_type": "code",
   "execution_count": null,
   "id": "688dd26d",
   "metadata": {},
   "outputs": [],
   "source": [
    "circuit = create_hrw_qgb_circuit(3, hadamard_coin)\n",
    "circuit.draw(\"mpl\", fold=-1)"
   ]
  },
  {
   "cell_type": "code",
   "execution_count": null,
   "id": "73b93360",
   "metadata": {},
   "outputs": [],
   "source": [
    "n = 6\n",
    "results[\"hadamard_noiseless\"] = run_simulation(\n",
    "    n,\n",
    "    SHOTS,\n",
    "    create_hrw_qgb_circuit,\n",
    "    hadamard_coin,\n",
    "    RunMode.NOISELESS_SIMULATOR,\n",
    "    distribution_type=DistributionType.HADAMARD,\n",
    "    title=f\"Hadamard Walk on Quantum Galton Board with {n} Levels\",\n",
    ")"
   ]
  },
  {
   "cell_type": "markdown",
   "id": "5fca52eb",
   "metadata": {},
   "source": [
    "## Part IV - Optimization under Noise Models"
   ]
  },
  {
   "cell_type": "markdown",
   "id": "191fbbf6",
   "metadata": {},
   "source": [
    "Having our implementation working on the noiseless simulators, we will now work on exploring the circuit under a noise model."
   ]
  },
  {
   "cell_type": "code",
   "execution_count": null,
   "id": "6dada4f0",
   "metadata": {},
   "outputs": [],
   "source": [
    "service = QiskitRuntimeService()\n",
    "real_torino = service.backend(\"ibm_torino\")\n",
    "real_brisbane = service.backend(\"ibm_brisbane\")\n",
    "least_busy_backend = service.least_busy()\n",
    "print(f\"torino qubits: {real_torino.num_qubits}, brisbane qubits: {real_brisbane.num_qubits}\")\n",
    "print(f\"least busy backend: {least_busy_backend.name}, qubits: {least_busy_backend.num_qubits}\")"
   ]
  },
  {
   "cell_type": "markdown",
   "id": "9d5fbda4",
   "metadata": {},
   "source": [
    "After careful observations of the Galton board properties, it is possible to create a universal distribution simulator and optimize the use of qubits. The naive implementation requires $2n+2$ qubits. We can load any distribution using only $n+3$ qubits. It is worth noting that Galton board produced a superposition of all states with Hamming Weight 1 (single qubit is 1 and the rest are 0). For example, in case of 3 levels Galton board, we have 3 tally bin qubits and the resulting state will be $\\alpha\\ket{001} + \\beta\\ket{010} + \\gamma\\ket{100}$ (or $\\alpha\\ket{1}_3 + \\beta\\ket{2}_3 + \\gamma\\ket{4}_3$ in a more compact notation) for some arbitrary distribution. In a more general case, we can write it as:\n",
    "\n",
    "$\\ket{\\psi} = \\sum_{i=0}^{n}{\\sqrt{p(i)}\\ket{2^i}}_{n+1}$\n",
    "\n",
    "$\\sum_{i=0}^{n}{p(i)} = 1$\n",
    "\n",
    "$\\forall i\\:\\:p(i) >= 0$"
   ]
  },
  {
   "cell_type": "code",
   "execution_count": null,
   "id": "b7e7c8bd",
   "metadata": {},
   "outputs": [],
   "source": [
    "def optimized_coin(qc: QuantumCircuit, n, level, probs: np.ndarray):\n",
    "    \"\"\"Applies the required coin rotation based on the level.\"\"\"\n",
    "    if level == 1:\n",
    "        prob = probs[0]\n",
    "        theta = 2 * math.acos(np.sqrt(1-prob))\n",
    "        qc.ry(theta, 0)\n",
    "    else:\n",
    "        prob = probs[level - 1] / probs[(level-1):].sum()\n",
    "        theta = 2 * math.acos(np.sqrt(1-prob))\n",
    "        qc.cry(theta, level + 1, 0)\n",
    "\n",
    "def calculate_opt_wire_tuples(n, level) -> List[Tuple[int, int]]:\n",
    "    if level < 1 or level > n:\n",
    "        raise ValueError(\"Level must be between 1 and n (inclusive).\")\n",
    "    return [(i, i + 1) for i in range(level, level + 2)]\n",
    "\n",
    "\n",
    "def create_opt_qgb_circuit(n, coin, probs: list | np.ndarray) -> QuantumCircuit:\n",
    "    \"\"\"Creates an optimized quantum circuit for the Quantum Galton Board (QGB) with n levels.\"\"\"\n",
    "\n",
    "    if isinstance(probs, list):\n",
    "        my_probs  = np.array(probs)\n",
    "    else:\n",
    "        my_probs = probs\n",
    "    def qpegs(qc: QuantumCircuit, wire_tuples: List[Tuple[int]]):\n",
    "        for i, wires in enumerate(wire_tuples):\n",
    "            qc.cswap(0, wires[0], wires[1])\n",
    "            if i < len(wire_tuples) - 1:\n",
    "                qc.cx(wires[1], 0)\n",
    "\n",
    "    def levels(qc: QuantumCircuit):\n",
    "        qc.x(2)\n",
    "        for level in range(1, n + 1):\n",
    "            coin(qc, n, level, my_probs)\n",
    "            qpegs(qc, wire_tuples=calculate_opt_wire_tuples(n, level))\n",
    "            if level < n:\n",
    "                qc.reset(0)\n",
    "            qc.barrier()\n",
    "\n",
    "    def measures(qc: QuantumCircuit):\n",
    "        for cbit, qbit in enumerate(list(range(1, n + 1)) + [n + 2]):\n",
    "            qc.measure(qbit, cbit)\n",
    "\n",
    "    qr = QuantumRegister(n + 3)\n",
    "    distribution = ClassicalRegister(n + 1, \"distribution\")\n",
    "    circuit = QuantumCircuit(qr, distribution)\n",
    "    levels(circuit)\n",
    "    measures(circuit)\n",
    "    return circuit"
   ]
  },
  {
   "cell_type": "markdown",
   "id": "fb6ae27c",
   "metadata": {},
   "source": [
    "Let's now apply the optimized circuit approach to the three distributions we are studying: Gaussian, Exponential and Hadamard Random Walk."
   ]
  },
  {
   "cell_type": "markdown",
   "id": "eb4c3b29",
   "metadata": {},
   "source": [
    "We will run all the distribution generations under the following three simulations:\n",
    "- Noiseless AER simulator\n",
    "- Noisy Simulator with noise model from the `ibm_torino` QPU backend\n",
    "- Real device (IBM Torino)"
   ]
  },
  {
   "cell_type": "markdown",
   "id": "ee242bba",
   "metadata": {},
   "source": [
    "We set the $n$ levels for all noisy simulations to be equal to check how each distribution holds under the same conditions."
   ]
  },
  {
   "cell_type": "code",
   "execution_count": null,
   "id": "c7543c17",
   "metadata": {},
   "outputs": [],
   "source": [
    "n = 10\n",
    "dg = DistributionGenerator(n, SHOTS)"
   ]
  },
  {
   "cell_type": "markdown",
   "id": "5d60061b",
   "metadata": {},
   "source": [
    "### Gaussian Distribution"
   ]
  },
  {
   "cell_type": "markdown",
   "id": "0ee11eed",
   "metadata": {},
   "source": [
    "Below, we generate the Gaussian probabilities and execute the simulations storing the result for further comparison.\n"
   ]
  },
  {
   "cell_type": "code",
   "execution_count": null,
   "id": "6ef7c137",
   "metadata": {},
   "outputs": [],
   "source": [
    "gaussian = dg.normal(generate_probs=True)[1]\n",
    "results[\"gaussian_noiseless\"] = run_simulation(\n",
    "    n,\n",
    "    SHOTS,\n",
    "    create_opt_qgb_circuit,\n",
    "    optimized_coin,\n",
    "    RunMode.NOISELESS_SIMULATOR,\n",
    "    title=f\"Normal Distribution for {n} Levels (Noiseless)\",\n",
    "    probs=gaussian,\n",
    ")\n",
    "results[\"gaussian_noisy\"] = run_simulation(\n",
    "    n,\n",
    "    SHOTS,\n",
    "    create_opt_qgb_circuit,\n",
    "    optimized_coin,\n",
    "    RunMode.NOISY_SIMULATOR,\n",
    "    title=f\"Normal Distribution for {n} Levels ({least_busy_backend.name} Noise Model)\",\n",
    "    backend=least_busy_backend,\n",
    "    probs=gaussian,\n",
    ")\n",
    "if ENABLE_REAL_DEVICE:\n",
    "    results[\"gaussian_real_device\"] = run_simulation(\n",
    "        n,\n",
    "        SHOTS,\n",
    "        create_opt_qgb_circuit,\n",
    "        optimized_coin,\n",
    "        RunMode.REAL_DEVICE,\n",
    "        title=f\"Normal Distribution for {n} Levels (Real Device: {least_busy_backend.name})\",\n",
    "        backend=least_busy_backend,\n",
    "        probs=gaussian,\n",
    "    )"
   ]
  },
  {
   "cell_type": "code",
   "execution_count": null,
   "id": "cdca5533",
   "metadata": {},
   "outputs": [],
   "source": [
    "import mthree\n",
    "distro = dg.normal(generate_probs=True)[1]\n",
    "qc = create_opt_qgb_circuit(n, optimized_coin, distro)\n",
    "backend = AerSimulator.from_backend(real_torino)\n",
    "transpiled_qc = transpile(qc, backend, optimization_level=3)\n",
    "raw_counts = backend.run(transpiled_qc, shots=SHOTS).result().get_counts()\n",
    "\n",
    "mit = mthree.M3Mitigation(backend)\n",
    "mit.cals_from_system(range(qc.num_qubits))\n",
    "quasi = mit.apply_correction(raw_counts, range(n+1))\n",
    "probs = quasi.nearest_probability_distribution()\n",
    "probs = dict(sorted(probs.items()))\n",
    "freqs = { bitstring: count * SHOTS for bitstring, count in probs.items() }\n",
    "\n",
    "new_freqs = {}\n",
    "for i in range(0, n + 1):\n",
    "    bits = [\"0\"] * (n + 1)\n",
    "    bits[i] = \"1\"\n",
    "    bitstring = \"\".join(bits)\n",
    "    new_freqs[bitstring] = freqs.get(bitstring, 0)\n",
    "new_freqs = dict(sorted(new_freqs.items()))\n",
    "total_counts = sum(new_freqs.values())\n",
    "if total_counts < SHOTS:\n",
    "    ratio = SHOTS / total_counts\n",
    "    for key in new_freqs:\n",
    "        new_freqs[key] = new_freqs[key] * ratio\n",
    "plt.bar(new_freqs.keys(), new_freqs.values())\n",
    "plt.xticks(rotation=45)\n",
    "plt.plot(np.array(distro) * SHOTS, label=\"Hadamard Probs\", color=\"red\", marker=\"o\")\n",
    "plt.xlabel(\"Distribution\")\n",
    "plt.ylabel(\"Frequency\")\n",
    "plt.title(f\"Corrected Frequencies for {n} Levels (Real Device: {real_torino.name})\")\n",
    "plt.show()"
   ]
  },
  {
   "cell_type": "code",
   "execution_count": null,
   "id": "aeaa4af0",
   "metadata": {},
   "outputs": [],
   "source": []
  },
  {
   "cell_type": "markdown",
   "id": "61fe837d",
   "metadata": {},
   "source": [
    "### Exponential Distribution"
   ]
  },
  {
   "cell_type": "markdown",
   "id": "517202d3",
   "metadata": {},
   "source": [
    "We will apply the same procedure of collecting results for the exponential distribution leveraging the optimized circuit design."
   ]
  },
  {
   "cell_type": "code",
   "execution_count": null,
   "id": "2077f250",
   "metadata": {},
   "outputs": [],
   "source": [
    "exponential = dg.exponential(generate_probs=True)[1]\n",
    "results[\"exponential_noiseless\"] = run_simulation(\n",
    "    n,\n",
    "    SHOTS,\n",
    "    create_opt_qgb_circuit,\n",
    "    optimized_coin,\n",
    "    RunMode.NOISELESS_SIMULATOR,\n",
    "    distribution_type=DistributionType.EXPONENTIAL,\n",
    "    title=f\"Exponential Distribution for {n} Levels (Noiseless)\",\n",
    "    probs=exponential,\n",
    ")\n",
    "results[\"exponential_noisy\"] = run_simulation(\n",
    "    n,\n",
    "    SHOTS,\n",
    "    create_opt_qgb_circuit,\n",
    "    optimized_coin,\n",
    "    RunMode.NOISY_SIMULATOR,\n",
    "    distribution_type=DistributionType.EXPONENTIAL,\n",
    "    title=f\"Exponential Distribution for {n} Levels ({real_torino.name} Noise Model)\",\n",
    "    backend=real_torino,\n",
    "    probs=exponential,\n",
    ")\n",
    "if ENABLE_REAL_DEVICE:\n",
    "    results[\"exponential_real_device\"] = run_simulation(\n",
    "        n,\n",
    "        SHOTS,\n",
    "        create_opt_qgb_circuit,\n",
    "        optimized_coin,\n",
    "        RunMode.REAL_DEVICE,\n",
    "        distribution_type=DistributionType.EXPONENTIAL,\n",
    "        title=f\"Exponential Distribution for {n} Levels (Real Device: {real_torino.name})\",\n",
    "        backend=real_torino,\n",
    "        probs=exponential,\n",
    "    )"
   ]
  },
  {
   "cell_type": "markdown",
   "id": "498f754c",
   "metadata": {},
   "source": [
    "Now, there is a well-known implementation of Exponential distribution generation on $n$ qubits with $n$ `RY` rotations. This is the most optimal way of generating this specific distribution with only single qubit gates. The implementation is taken from the Classiq SDK."
   ]
  },
  {
   "cell_type": "code",
   "execution_count": null,
   "id": "e9d8467b",
   "metadata": {},
   "outputs": [],
   "source": [
    "# Classiq implementation\n",
    "# repeat(q.len, lambda i: RY(2.0 * atan(exp((-rate * 2.0**i) / 2.0)), q[i]))\n",
    "def prep_exponential(n, rate) -> QuantumCircuit:\n",
    "    \"\"\"Prepare exponential distribution on n qubits.\"\"\"\n",
    "    circuit = QuantumCircuit(n, n)\n",
    "    for i in range(n):\n",
    "        circuit.ry(2.0 * math.atan(math.exp((-rate * 2.0**i))), i)\n",
    "    circuit.measure(range(n), range(n))\n",
    "    return circuit"
   ]
  },
  {
   "cell_type": "markdown",
   "id": "efca00b9",
   "metadata": {},
   "source": [
    "### Hadamard Random Walk Distribution"
   ]
  },
  {
   "cell_type": "code",
   "execution_count": null,
   "id": "b5bfc0f6",
   "metadata": {},
   "outputs": [],
   "source": [
    "hadamard_probs = dg.hadamard(generate_probs=True)[1]\n",
    "results[\"hadamard_noiseless\"] = run_simulation(\n",
    "    n,\n",
    "    SHOTS,\n",
    "    create_opt_qgb_circuit,\n",
    "    optimized_coin,\n",
    "    RunMode.NOISELESS_SIMULATOR,\n",
    "    distribution_type=DistributionType.HADAMARD,\n",
    "    title=f\"Hadamard Random Walk for {n} levels (Noiseless)\",\n",
    "    probs=hadamard_probs,\n",
    ")\n",
    "results[\"hadamard_noisy\"] = run_simulation(\n",
    "    n,\n",
    "    SHOTS,\n",
    "    create_opt_qgb_circuit,\n",
    "    optimized_coin,\n",
    "    RunMode.NOISY_SIMULATOR,\n",
    "    distribution_type=DistributionType.HADAMARD,\n",
    "    title=f\"Hadamard Random Walk for {n} levels ({real_torino.name} Noise Model)\",\n",
    "    backend=real_torino,\n",
    "    probs=hadamard_probs,\n",
    ")\n",
    "if ENABLE_REAL_DEVICE:\n",
    "    results[\"hadamard_real_device\"] = run_simulation(\n",
    "        n,\n",
    "        SHOTS,\n",
    "        create_opt_qgb_circuit,\n",
    "        optimized_coin,\n",
    "        RunMode.REAL_DEVICE,\n",
    "        distribution_type=DistributionType.HADAMARD,\n",
    "        title=f\"Hadamard Random Walk for {n} levels (Real Device: {real_torino.name})\",\n",
    "        backend=real_torino,\n",
    "        probs=hadamard_probs,\n",
    "    )"
   ]
  },
  {
   "cell_type": "markdown",
   "id": "3c3f0481",
   "metadata": {},
   "source": [
    "## Part V - Study the Distances between Obtained and Target Distributions"
   ]
  },
  {
   "cell_type": "markdown",
   "id": "d013a362",
   "metadata": {},
   "source": [
    "Let's now turn to understanding how well the obtained distributions are approximating the target distributions.\n",
    "\n",
    "We have collected a hefty amount of samples for both Exponential and Hadamard Random Walk circuits executed under the noise model."
   ]
  },
  {
   "cell_type": "code",
   "execution_count": null,
   "id": "f6fa22b5",
   "metadata": {},
   "outputs": [],
   "source": [
    "from scipy.stats import wasserstein_distance"
   ]
  },
  {
   "cell_type": "code",
   "execution_count": null,
   "id": "892b229f",
   "metadata": {},
   "outputs": [],
   "source": [
    "distances = {}\n",
    "for sim_name, (positions, freqs, ref_freqs) in results.items():\n",
    "    quantum_freqs = np.array(list(freqs.values()))\n",
    "    reference_freqs = np.array(ref_freqs)\n",
    "    positions = np.array(positions)\n",
    "\n",
    "    quantum_probs = quantum_freqs / quantum_freqs.sum()\n",
    "    reference_probs = reference_freqs / reference_freqs.sum()\n",
    "    distance = wasserstein_distance(\n",
    "        u_values=positions,\n",
    "        v_values=positions,\n",
    "        u_weights=quantum_probs,\n",
    "        v_weights=reference_probs,\n",
    "    )\n",
    "    tokens = sim_name.split(\"_\")\n",
    "    for i, t in enumerate(tokens):\n",
    "        tokens[i] = t[0].upper() + t[1:]\n",
    "    sim_name_printable = \" \".join(tokens)\n",
    "    print(f\"Wasserstein Distance for {sim_name_printable:<40} {distance:.4f}\")\n",
    "    distances[sim_name] = distance"
   ]
  },
  {
   "cell_type": "code",
   "execution_count": null,
   "id": "5c42b7c6",
   "metadata": {},
   "outputs": [],
   "source": [
    "distances = {}\n",
    "for sim_name, (positions, freqs, ref_freqs) in results.items():\n",
    "    quantum_freqs = np.array(list(freqs.values()))\n",
    "    reference_freqs = np.array(ref_freqs)\n",
    "    positions = np.array(positions)\n",
    "    quantum_probs = quantum_freqs / quantum_freqs.sum()\n",
    "    reference_probs = reference_freqs / reference_freqs.sum()\n",
    "\n",
    "    mse_value = np.mean((quantum_probs - reference_probs) ** 2) * SHOTS\n",
    "    metric_name = \"MSE\"\n",
    "\n",
    "    # Format and output\n",
    "    tokens = [t[0].upper() + t[1:] for t in sim_name.split(\"_\")]\n",
    "    sim_name_printable = \" \".join(tokens)\n",
    "    print(f\"{metric_name} for {sim_name_printable:<40} {mse_value:.6f}\")\n",
    "    distances[sim_name] = mse_value"
   ]
  },
  {
   "cell_type": "code",
   "execution_count": null,
   "id": "bea41ba7",
   "metadata": {},
   "outputs": [],
   "source": [
    "heat_map_distances = np.array(\n",
    "    [\n",
    "        [\n",
    "            distances[\"gaussian_noiseless\"],\n",
    "            distances[\"gaussian_noisy\"],\n",
    "            \n",
    "        ] + ([distances[\"gaussian_real_device\"]] if ENABLE_REAL_DEVICE else []),\n",
    "        [\n",
    "            distances[\"exponential_noiseless\"],\n",
    "            distances[\"exponential_noisy\"],\n",
    "        ] + ([distances[\"exponential_real_device\"]] if ENABLE_REAL_DEVICE else []),\n",
    "        [\n",
    "            distances[\"hadamard_noiseless\"],\n",
    "            distances[\"hadamard_noisy\"],\n",
    "        ] + ([distances[\"hadamard_real_device\"]] if ENABLE_REAL_DEVICE else [])\n",
    "    ]\n",
    ")\n",
    "y_labels = [\"Gaussian\", \"Exponential\", \"Hadamard\"]\n",
    "x_labels = [\"Noiseless\", \"Noisy\"] + ([\"Real Device\"] if ENABLE_REAL_DEVICE else [])\n",
    "\n",
    "fig, ax = plt.subplots(figsize=(8, 6))\n",
    "cax = ax.imshow(heat_map_distances, cmap=\"viridis\")\n",
    "ax.set_xticks(np.arange(len(x_labels)))\n",
    "ax.set_yticks(np.arange(len(y_labels)))\n",
    "ax.set_xticklabels(x_labels)\n",
    "ax.set_yticklabels(y_labels)\n",
    "plt.setp(ax.get_xticklabels(), rotation=30, ha=\"right\", rotation_mode=\"anchor\")\n",
    "\n",
    "for i in range(len(y_labels)):\n",
    "    for j in range(len(x_labels)):\n",
    "        ax.text(\n",
    "            j,\n",
    "            i,\n",
    "            f\"{heat_map_distances[i, j]:.4f}\",\n",
    "            ha=\"center\",\n",
    "            va=\"center\",\n",
    "            color=\"white\" if heat_map_distances[i, j] < 1 else \"black\",\n",
    "        )\n",
    "\n",
    "# Colorbar and title\n",
    "fig.colorbar(cax, label=\"Distance\")\n",
    "ax.set_title(f\"Distance Heatmap for n = {n}\")\n",
    "plt.tight_layout()\n",
    "plt.show()"
   ]
  },
  {
   "cell_type": "code",
   "execution_count": null,
   "id": "85c534f3",
   "metadata": {},
   "outputs": [],
   "source": [
    "gaussian_noisy_results = defaultdict(int)\n",
    "exponential_noisy_results = defaultdict(int)\n",
    "hadamard_noisy_results = defaultdict(int)\n",
    "for levels in range(5, 15):\n",
    "    dg = DistributionGenerator(levels, SHOTS)\n",
    "    gaussian = dg.normal(generate_probs=True)[1]\n",
    "    exponential = dg.exponential(generate_probs=True)[1]\n",
    "    hadamard_probs = dg.hadamard(generate_probs=True)[1]\n",
    "    gaussian_noisy_results[levels] = run_simulation(\n",
    "        levels,\n",
    "        SHOTS,\n",
    "        create_opt_qgb_circuit,\n",
    "        optimized_coin,\n",
    "        RunMode.NOISY_SIMULATOR,\n",
    "        title=f\"Normal Distribution for {levels} Levels (Noisy)\",\n",
    "        backend=real_torino,\n",
    "        distribution_type=DistributionType.NORMAL,\n",
    "        probs=gaussian,\n",
    "        plots=False,\n",
    "    )\n",
    "    exponential_noisy_results[levels] = run_simulation(\n",
    "        levels,\n",
    "        SHOTS,\n",
    "        create_opt_qgb_circuit,\n",
    "        optimized_coin,\n",
    "        RunMode.NOISY_SIMULATOR,\n",
    "        title=f\"Exponential Distribution for {levels} Levels (Noisy)\",\n",
    "        backend=real_torino,\n",
    "        distribution_type=DistributionType.EXPONENTIAL,\n",
    "        probs=exponential,\n",
    "        plots=False,\n",
    "    )\n",
    "    hadamard_noisy_results[levels] = run_simulation(\n",
    "        levels,\n",
    "        SHOTS,\n",
    "        create_opt_qgb_circuit,\n",
    "        optimized_coin,\n",
    "        RunMode.NOISY_SIMULATOR,\n",
    "        title=f\"Hadamard Distribution for {levels} Levels (Noisy)\",\n",
    "        backend=real_torino,\n",
    "        distribution_type=DistributionType.HADAMARD,\n",
    "        probs=hadamard_probs,\n",
    "        plots=False,\n",
    "    )"
   ]
  },
  {
   "cell_type": "code",
   "execution_count": null,
   "id": "489d3fb1",
   "metadata": {},
   "outputs": [],
   "source": [
    "def calculate_distance(positions, freqs, reference_freqs):\n",
    "    \"\"\"Calculates the MSE distance between two probability distributions.\"\"\"\n",
    "    quantum_freqs = np.array(list(freqs.values()))\n",
    "    reference_freqs = np.array(ref_freqs)\n",
    "    positions = np.array(positions)\n",
    "    quantum_probs = quantum_freqs / quantum_freqs.sum()\n",
    "    reference_probs = reference_freqs / reference_freqs.sum()\n",
    "\n",
    "    mse_value = np.mean((quantum_probs - reference_probs) ** 2) * SHOTS\n",
    "    return mse_value"
   ]
  },
  {
   "cell_type": "code",
   "execution_count": null,
   "id": "33710aab",
   "metadata": {},
   "outputs": [],
   "source": [
    "gaussian_distances = defaultdict(int)\n",
    "exponential_distances = defaultdict(int)\n",
    "hadamard_distances = defaultdict(int)\n",
    "for levels, (positions, freqs, ref_freqs) in gaussian_noisy_results.items():\n",
    "    gaussian_distances[levels] = calculate_distance(positions, freqs, ref_freqs)\n",
    "\n",
    "for levels, (positions, freqs, ref_freqs) in exponential_noisy_results.items():\n",
    "    exponential_distances[levels] = calculate_distance(positions, freqs, ref_freqs)\n",
    "\n",
    "for levels, (positions, freqs, ref_freqs) in hadamard_noisy_results.items():\n",
    "    hadamard_distances[levels] = calculate_distance(positions, freqs, ref_freqs)"
   ]
  },
  {
   "cell_type": "code",
   "execution_count": null,
   "id": "af30feb2",
   "metadata": {},
   "outputs": [],
   "source": [
    "plt.plot(\n",
    "    list(gaussian_distances.keys()),\n",
    "    list(gaussian_distances.values()),\n",
    "    label=\"Gaussian\",\n",
    "    marker=\"o\",\n",
    "    color=\"blue\",\n",
    ")\n",
    "\n",
    "plt.plot(\n",
    "    list(exponential_distances.keys()),\n",
    "    list(exponential_distances.values()),\n",
    "    label=\"Exponential\",\n",
    "    marker=\"o\",\n",
    "    color=\"orange\",\n",
    ")\n",
    "\n",
    "plt.plot(\n",
    "    list(hadamard_distances.keys()),\n",
    "    list(hadamard_distances.values()),\n",
    "    label=\"Hadamard\",\n",
    "    marker=\"o\",\n",
    "    color=\"green\",\n",
    ")\n",
    "plt.xlabel(\"Levels\")\n",
    "plt.ylabel(\"Distance (MSE)\")\n",
    "plt.title(\"Distance vs Levels for Noisy Simulations\")\n",
    "plt.legend()\n",
    "plt.grid()\n",
    "plt.show()"
   ]
  },
  {
   "cell_type": "markdown",
   "id": "8439f2bc",
   "metadata": {},
   "source": [
    "We conclude that Exponential distribution realized the most potential from the Galton Board optimizations reducing the number of required qubits from $2n+2$ to $n+3$ and significantly lowering the depth of the circuit. It helped maintaining close enough distance from the reference distribution in the presence of noise and even on a real device."
   ]
  }
 ],
 "metadata": {
  "kernelspec": {
   "display_name": ".venv (3.10.0)",
   "language": "python",
   "name": "python3"
  },
  "language_info": {
   "codemirror_mode": {
    "name": "ipython",
    "version": 3
   },
   "file_extension": ".py",
   "mimetype": "text/x-python",
   "name": "python",
   "nbconvert_exporter": "python",
   "pygments_lexer": "ipython3",
   "version": "3.10.0"
  }
 },
 "nbformat": 4,
 "nbformat_minor": 5
}
